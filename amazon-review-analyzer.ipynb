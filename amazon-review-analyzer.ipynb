{
 "cells": [
  {
   "cell_type": "code",
   "execution_count": 142,
   "metadata": {},
   "outputs": [],
   "source": [
    "import collections\n",
    "import nltk.classify.util, nltk.metrics\n",
    "from nltk.classify import NaiveBayesClassifier, MaxentClassifier, SklearnClassifier\n",
    "import csv\n",
    "from sklearn import cross_validation\n",
    "from sklearn.svm import LinearSVC, SVC\n",
    "import random\n",
    "from nltk.corpus import stopwords\n",
    "import itertools\n",
    "from nltk.collocations import BigramCollocationFinder\n",
    "from nltk.metrics import *\n",
    "import matplotlib.pyplot as plt"
   ]
  },
  {
   "cell_type": "code",
   "execution_count": 143,
   "metadata": {},
   "outputs": [],
   "source": [
    "from __future__ import division #To avoid integer division\n",
    "from operator import itemgetter\n",
    "import pandas as pd\n",
    "import numpy as np\n",
    "from sklearn.model_selection import train_test_split"
   ]
  },
  {
   "cell_type": "code",
   "execution_count": 144,
   "metadata": {},
   "outputs": [],
   "source": [
    "data = pd.read_csv(\"data_set.csv\", low_memory=False)\n",
    "data = data[['reviews.rating', 'reviews.text']]\n",
    "train, test = train_test_split(data, test_size=0.2)"
   ]
  },
  {
   "cell_type": "code",
   "execution_count": 145,
   "metadata": {},
   "outputs": [
    {
     "name": "stderr",
     "output_type": "stream",
     "text": [
      "c:\\program files\\python36\\lib\\site-packages\\ipykernel_launcher.py:8: SettingWithCopyWarning: \n",
      "A value is trying to be set on a copy of a slice from a DataFrame.\n",
      "Try using .loc[row_indexer,col_indexer] = value instead\n",
      "\n",
      "See the caveats in the documentation: http://pandas.pydata.org/pandas-docs/stable/indexing.html#indexing-view-versus-copy\n",
      "  \n"
     ]
    }
   ],
   "source": [
    "pos_rev = []\n",
    "# pos_rev_date = []\n",
    "neg_rev = []\n",
    "# neg_rev_date = []\n",
    "neut_rev = []\n",
    "# neut_rev_date = []\n",
    "\n",
    "train['reviews.rating'] = pd.to_numeric(train['reviews.rating'], errors='coerce')\n",
    "train = train.dropna(subset=['reviews.rating'])\n",
    "train['reviews.rating'] = train['reviews.rating'].astype(int)\n",
    "\n",
    "# a = 0\n",
    "for col, row in train.iterrows():\n",
    "    if int(row[\"reviews.rating\"]) > 3:\n",
    "        pos_rev.append(row[\"reviews.text\"])\n",
    "#         pos_rev_date.append(row[\"reviews.date\"])\n",
    "    elif int(row[\"reviews.rating\"]) < 3:\n",
    "        neg_rev.append(row[\"reviews.text\"])\n",
    "#         neg_rev_date.append(row[\"reviews.date\"])\n",
    "    else:\n",
    "        neut_rev.append(row[\"reviews.text\"])\n",
    "#         neut_rev_date.append(row[\"reviews.date\"])"
   ]
  },
  {
   "cell_type": "code",
   "execution_count": 146,
   "metadata": {},
   "outputs": [],
   "source": [
    "def word_split(data):    \n",
    "    data_new = []\n",
    "    for word in data:\n",
    "        try:\n",
    "            word_filter = [i.lower() for i in word.split()]\n",
    "            data_new.append(word_filter)\n",
    "        except:\n",
    "            print (' ')\n",
    "    return data_new\n",
    " \n",
    "def word_split_sentiment(data):\n",
    "    data_new = []\n",
    "    for (word, sentiment) in data:\n",
    "        try:\n",
    "            word_filter = [i.lower() for i in word.split()]\n",
    "            data_new.append((word_filter, sentiment))\n",
    "        except:\n",
    "            print (' ')\n",
    "    return data_new\n",
    "    \n",
    "def word_feats(words):    \n",
    "    return dict([(word, True) for word in words])"
   ]
  },
  {
   "cell_type": "code",
   "execution_count": 147,
   "metadata": {},
   "outputs": [],
   "source": [
    "from nltk.metrics import *\n",
    "\n",
    "single_accuracy = 0\n",
    "single_precision = 0\n",
    "single_recall = 0\n",
    "single_fmeasure = 0\n",
    "\n",
    "ncross_accuracy = 0\n",
    "ncross_precision = 0\n",
    "ncross_recall = 0\n",
    "ncross_fmeasure = 0\n",
    "\n",
    "s_a = []\n",
    "s_p = []\n",
    "s_r = []\n",
    "s_fm = []\n",
    "n_a = []\n",
    "n_p = []\n",
    "n_r = []\n",
    "n_fm = []\n",
    "# ncross_metrics = []\n",
    "\n",
    "def evaluate_classifier(featx):\n",
    "    \n",
    "    negfeats = [(featx(f), 'neg') for f in word_split(neg_rev)]\n",
    "    posfeats = [(featx(f), 'pos') for f in word_split(pos_rev)]\n",
    "    neutfeats = [(featx(f), 'neut') for f in word_split(neut_rev)]\n",
    "    \n",
    "#     print (posfeats)\n",
    "        \n",
    "    negcutoff = int(len(negfeats)*3/4)\n",
    "    poscutoff = int(len(posfeats)*3/4)\n",
    "    neutcutoff = int(len(neutfeats)*3/4)\n",
    "    \n",
    "#     print (len(posfeats))\n",
    "#     print (len(negfeats))\n",
    "#     print (len(neutfeats))\n",
    "    \n",
    "    trainfeats = negfeats[:negcutoff] + posfeats[:poscutoff] + neutfeats[:neutcutoff]\n",
    "    testfeats = negfeats[negcutoff:] + posfeats[poscutoff:] + neutfeats[neutcutoff:]\n",
    "    \n",
    "    # using 3 classifiers\n",
    "    classifier_list = ['nb', 'maxent', 'svm']\n",
    "        \n",
    "    for cl in classifier_list:\n",
    "        if cl == 'maxent':\n",
    "            classifierName = 'Maximum Entropy'\n",
    "            classifier = MaxentClassifier.train(trainfeats, 'GIS', trace=0, encoding=None, labels=None, gaussian_prior_sigma=0, max_iter = 1)\n",
    "        elif cl == 'svm':\n",
    "            classifierName = 'SVM'\n",
    "            classifier = SklearnClassifier(LinearSVC(), sparse=False)\n",
    "            classifier.train(trainfeats)\n",
    "        else:\n",
    "            classifierName = 'Naive Bayes'\n",
    "            classifier = NaiveBayesClassifier.train(trainfeats)\n",
    "            \n",
    "        refsets = collections.defaultdict(set)\n",
    "        testsets = collections.defaultdict(set)\n",
    " \n",
    "        for i, (feats, label) in enumerate(testfeats):\n",
    "                refsets[label].add(i)\n",
    "                observed = classifier.classify(feats)\n",
    "                testsets[observed].add(i)\n",
    "\n",
    "        accuracy = nltk.classify.util.accuracy(classifier, testfeats)\n",
    "        pos_precision = precision(refsets['pos'], testsets['pos'])\n",
    "        pos_recall = recall(refsets['pos'], testsets['pos'])\n",
    "        pos_fmeasure = f_measure(refsets['pos'], testsets['pos'])\n",
    "        neg_precision = precision(refsets['neg'], testsets['neg'])\n",
    "        neg_recall = recall(refsets['neg'], testsets['neg'])\n",
    "        neg_fmeasure = f_measure(refsets['neg'], testsets['neg'])\n",
    "        neut_precision = precision(refsets['neut'], testsets['neut'])\n",
    "        neut_recall = recall(refsets['neut'], testsets['neut'])\n",
    "        neut_fmeasure = f_measure(refsets['neut'], testsets['neut'])\n",
    "        \n",
    "        if pos_precision is None:\n",
    "            pos_precision = 0\n",
    "        if pos_recall is None:\n",
    "            pos_recall = 0\n",
    "        if pos_fmeasure is None:\n",
    "            pos_fmeasure = 0\n",
    "        if neg_precision is None:\n",
    "            neg_precision = 0\n",
    "        if neg_recall is None:\n",
    "            neg_recall = 0\n",
    "        if neg_fmeasure is None:\n",
    "            neg_fmeasure = 0\n",
    "        if neut_precision is None:\n",
    "            neut_precision = 0\n",
    "        if neut_recall is None:\n",
    "            neut_recall = 0\n",
    "        if neut_fmeasure is None:\n",
    "            neut_fmeasure = 0\n",
    "        \n",
    "        single_accuracy = accuracy\n",
    "        single_precision = (pos_precision + neg_precision + neut_precision) / 3\n",
    "        single_recall = (pos_recall + neg_recall + neut_recall) / 3\n",
    "        single_fmeasure = (pos_fmeasure + neg_fmeasure + neut_fmeasure) / 3\n",
    "        \n",
    "        s_a.append(single_accuracy * 100)\n",
    "        s_p.append(single_precision * 100)\n",
    "        s_r.append(single_recall * 100)\n",
    "        s_fm.append(single_fmeasure * 100)\n",
    "        \n",
    "        print (' ')\n",
    "        print ('---------------------------------------')\n",
    "        print ('SINGLE FOLD RESULT ' + '(' + classifierName + ')')\n",
    "        print ('---------------------------------------')\n",
    "        print ('accuracy:', accuracy * 100)\n",
    "        print ('precision', single_precision * 100)\n",
    "        print ('recall', single_recall * 100)\n",
    "        print ('f-measure', single_fmeasure * 100)\n",
    "                \n",
    "        #classifier.show_most_informative_features()\n",
    "        \n",
    "    trainfeats = negfeats + posfeats + neutfeats\n",
    "    \n",
    "    # SHUFFLE TRAIN SET\n",
    "    # As in cross validation, the test chunk might have only negative or only positive data    \n",
    "    random.shuffle(trainfeats)    \n",
    "    n = 5 # 5-fold cross-validation    \n",
    "    \n",
    "    for cl in classifier_list:\n",
    "        \n",
    "        subset_size = int(len(trainfeats) / n)\n",
    "        accuracy = []\n",
    "        pos_precision = []\n",
    "        pos_recall = []\n",
    "        neg_precision = []\n",
    "        neg_recall = []\n",
    "        pos_fmeasure = []\n",
    "        neg_fmeasure = []\n",
    "        neut_precision = []\n",
    "        neut_recall = []\n",
    "        neut_fmeasure = []\n",
    "        cv_count = 1\n",
    "        for i in range(n):        \n",
    "            testing_this_round = trainfeats[i*subset_size:][:subset_size]\n",
    "            training_this_round = trainfeats[:i*subset_size] + trainfeats[(i+1)*subset_size:]\n",
    "            \n",
    "            if cl == 'maxent':\n",
    "                classifierName = 'Maximum Entropy'\n",
    "                classifier = MaxentClassifier.train(training_this_round, 'GIS', trace=0, encoding=None, labels=None, gaussian_prior_sigma=0, max_iter = 1)\n",
    "            elif cl == 'svm':\n",
    "                classifierName = 'SVM'\n",
    "                classifier = SklearnClassifier(LinearSVC(), sparse=False)\n",
    "                classifier.train(training_this_round)\n",
    "            else:\n",
    "                classifierName = 'Naive Bayes'\n",
    "                classifier = NaiveBayesClassifier.train(training_this_round)\n",
    "                    \n",
    "            refsets = collections.defaultdict(set)\n",
    "            testsets = collections.defaultdict(set)\n",
    "            for i, (feats, label) in enumerate(testing_this_round):\n",
    "                refsets[label].add(i)\n",
    "                observed = classifier.classify(feats)\n",
    "                testsets[observed].add(i)\n",
    "            \n",
    "            cv_accuracy = 0\n",
    "            cv_pos_precision = 0\n",
    "            cv_pos_recall = 0\n",
    "            cv_pos_fmeasure = 0\n",
    "            cv_neg_precision = 0\n",
    "            cv_neg_recall = 0\n",
    "            cv_neg_fmeasure = 0\n",
    "            cv_neut_precision = 0\n",
    "            cv_neut_recall = 0\n",
    "            cv_neut_fmeasure = 0\n",
    "            \n",
    "            cv_accuracy = nltk.classify.util.accuracy(classifier, testing_this_round)\n",
    "            cv_pos_precision = precision(refsets['pos'], testsets['pos'])\n",
    "            cv_pos_recall = recall(refsets['pos'], testsets['pos'])\n",
    "            cv_pos_fmeasure = f_measure(refsets['pos'], testsets['pos'])\n",
    "            cv_neg_precision = precision(refsets['neg'], testsets['neg'])\n",
    "            cv_neg_recall = recall(refsets['neg'], testsets['neg'])\n",
    "            cv_neg_fmeasure = f_measure(refsets['neg'], testsets['neg'])\n",
    "            cv_neut_precision = precision(refsets['neut'], testsets['neut'])\n",
    "            cv_neut_recall = recall(refsets['neut'], testsets['neut'])\n",
    "            cv_neut_fmeasure = f_measure(refsets['neut'], testsets['neut'])\n",
    "            \n",
    "            if cv_pos_precision is None:\n",
    "                cv_pos_precision = 0\n",
    "            if cv_pos_recall is None:\n",
    "                cv_pos_recall = 0\n",
    "            if cv_pos_fmeasure is None:\n",
    "                cv_pos_fmeasure = 0\n",
    "            if cv_neg_precision is None:\n",
    "                cv_neg_precision = 0\n",
    "            if cv_neg_recall is None:\n",
    "                cv_neg_recall = 0\n",
    "            if cv_neg_fmeasure is None:\n",
    "                cv_neg_fmeasure = 0\n",
    "            if cv_neut_precision is None:\n",
    "                cv_neut_precision = 0\n",
    "            if cv_neut_recall is None:\n",
    "                cv_neut_recall = 0\n",
    "            if cv_neut_fmeasure is None:\n",
    "                cv_neut_fmeasure = 0\n",
    "\n",
    "                    \n",
    "            accuracy.append(cv_accuracy)\n",
    "            pos_precision.append(cv_pos_precision)\n",
    "            pos_recall.append(cv_pos_recall)\n",
    "            neg_precision.append(cv_neg_precision)\n",
    "            neg_recall.append(cv_neg_recall)\n",
    "            pos_fmeasure.append(cv_pos_fmeasure)\n",
    "            neg_fmeasure.append(cv_neg_fmeasure)\n",
    "            neut_precision.append(cv_neut_precision)\n",
    "            neut_recall.append(cv_neut_recall)\n",
    "            neut_fmeasure.append(cv_neut_fmeasure)\n",
    "            \n",
    "            cv_count += 1\n",
    "            \n",
    "            ncross_accuracy = sum(accuracy) / n\n",
    "            ncross_precision = (sum(pos_precision)/n + sum(neg_precision)/n + sum(neut_precision)/n) / 3\n",
    "            ncross_recall = (sum(pos_recall)/n + sum(neg_recall)/n + sum(neut_recall)/n) / 3\n",
    "            ncross_fmeasure = (sum(pos_fmeasure)/n + sum(neg_fmeasure)/n + sum(neut_fmeasure)/n) / 3\n",
    "            \n",
    "            n_a.append(ncross_accuracy * 100)\n",
    "            n_p.append(ncross_precision * 100)\n",
    "            n_r.append(ncross_recall * 100)\n",
    "            n_fm.append(ncross_fmeasure * 100)\n",
    "        \n",
    "                \n",
    "        print ('---------------------------------------')\n",
    "        print ('N-FOLD CROSS VALIDATION RESULT ' + '(' + classifierName + ')')\n",
    "        print ('---------------------------------------')\n",
    "        print ('accuracy:', ncross_accuracy * 100)\n",
    "        print ('precision', ncross_precision * 100)\n",
    "        print ('recall', ncross_recall * 100)\n",
    "        print ('f-measure', ncross_fmeasure * 100)\n",
    "        print ('')\n",
    "        "
   ]
  },
  {
   "cell_type": "code",
   "execution_count": 148,
   "metadata": {},
   "outputs": [
    {
     "name": "stdout",
     "output_type": "stream",
     "text": [
      " \n",
      "---------------------------------------\n",
      "SINGLE FOLD RESULT (Naive Bayes)\n",
      "---------------------------------------\n",
      "accuracy: 0.4443321299638989\n",
      "precision 0.3741185789800814\n",
      "recall 0.5053032958724267\n",
      "f-measure 0.2731002346759803\n",
      " \n",
      "---------------------------------------\n",
      "SINGLE FOLD RESULT (Maximum Entropy)\n",
      "---------------------------------------\n",
      "accuracy: 0.9337184115523466\n",
      "precision 0.3112394705174489\n",
      "recall 0.3333333333333333\n",
      "f-measure 0.32190774898563707\n",
      " \n",
      "---------------------------------------\n",
      "SINGLE FOLD RESULT (SVM)\n",
      "---------------------------------------\n",
      "accuracy: 0.9223104693140795\n",
      "precision 0.5664650583804192\n",
      "recall 0.4622861463381105\n",
      "f-measure 0.4950366481413125\n",
      "---------------------------------------\n",
      "N-FOLD CROSS VALIDATION RESULT (Naive Bayes)\n",
      "---------------------------------------\n",
      "accuracy: 0.46990431485827766\n",
      "precision 0.37457017720443103\n",
      "recall 0.5307276712175332\n",
      "f-measure 0.28615530336611256\n",
      "\n",
      "---------------------------------------\n",
      "N-FOLD CROSS VALIDATION RESULT (Maximum Entropy)\n",
      "---------------------------------------\n",
      "accuracy: 0.933742552807366\n",
      "precision 0.31124751760245534\n",
      "recall 0.3333333333333333\n",
      "f-measure 0.3219109221176856\n",
      "\n",
      "---------------------------------------\n",
      "N-FOLD CROSS VALIDATION RESULT (SVM)\n",
      "---------------------------------------\n",
      "accuracy: 0.9219714749954866\n",
      "precision 0.5365861229574435\n",
      "recall 0.4648050781127664\n",
      "f-measure 0.49041839579321395\n",
      "\n"
     ]
    }
   ],
   "source": [
    "evaluate_classifier(word_feats)"
   ]
  },
  {
   "cell_type": "code",
   "execution_count": 149,
   "metadata": {},
   "outputs": [
    {
     "data": {
      "text/plain": [
       "<Container object of 3 artists>"
      ]
     },
     "execution_count": 149,
     "metadata": {},
     "output_type": "execute_result"
    },
    {
     "data": {
      "image/png": "[encoded data removed]",
      "text/plain": [
       "<matplotlib.figure.Figure at 0x20c774e0ac8>"
      ]
     },
     "metadata": {},
     "output_type": "display_data"
    }
   ],
   "source": [
    "import numpy as np\n",
    "# x = np.array(s_p)\n",
    "# plt.hist(x, height = [s_p[0]], s_p[1], s_p[2])\n",
    "# plt.xticks([1, 3, 5], ['nb', 'maxent', 'svm'])\n",
    "\n",
    "x = ['nb', 'maxent', 'svm']\n",
    "height = [s_a[0], s_a[1], s_a[2]]\n",
    "plt.xlabel('Algorithms')\n",
    "plt.ylabel('Accuracy')\n",
    "plt.bar(x, height, width = 0.8, bottom=None, align='center', data=None)"
   ]
  },
  {
   "cell_type": "code",
   "execution_count": 150,
   "metadata": {},
   "outputs": [
    {
     "data": {
      "text/plain": [
       "<Container object of 3 artists>"
      ]
     },
     "execution_count": 150,
     "metadata": {},
     "output_type": "execute_result"
    },
    {
     "data": {
      "image/png": "[encoded data removed]",
      "text/plain": [
       "<matplotlib.figure.Figure at 0x20c7856a438>"
      ]
     },
     "metadata": {},
     "output_type": "display_data"
    }
   ],
   "source": [
    "x = ['nb', 'maxent', 'svm']\n",
    "height = [s_p[0], s_p[1], s_p[2]]\n",
    "plt.xlabel('Algorithms')\n",
    "plt.ylabel('Precision')\n",
    "plt.bar(x, height, width = 0.8, bottom=None, align='center', data=None)"
   ]
  },
  {
   "cell_type": "code",
   "execution_count": 151,
   "metadata": {},
   "outputs": [
    {
     "data": {
      "text/plain": [
       "<Container object of 3 artists>"
      ]
     },
     "execution_count": 151,
     "metadata": {},
     "output_type": "execute_result"
    },
    {
     "data": {
      "image/png": "[encoded data removed]",
      "text/plain": [
       "<matplotlib.figure.Figure at 0x20c03f8b828>"
      ]
     },
     "metadata": {},
     "output_type": "display_data"
    }
   ],
   "source": [
    "x = ['nb', 'maxent', 'svm']\n",
    "height = [s_r[0], s_r[1], s_r[2]]\n",
    "plt.xlabel('Algorithms')\n",
    "plt.ylabel('Recall')\n",
    "plt.bar(x, height, width = 0.8, bottom=None, align='center', data=None)"
   ]
  },
  {
   "cell_type": "code",
   "execution_count": 152,
   "metadata": {},
   "outputs": [
    {
     "data": {
      "text/plain": [
       "<Container object of 3 artists>"
      ]
     },
     "execution_count": 152,
     "metadata": {},
     "output_type": "execute_result"
    },
    {
     "data": {
      "image/png": "[encoded data removed]",
      "text/plain": [
       "<matplotlib.figure.Figure at 0x20c020cd278>"
      ]
     },
     "metadata": {},
     "output_type": "display_data"
    }
   ],
   "source": [
    "x = ['nb', 'maxent', 'svm']\n",
    "height = [s_fm[0], s_fm[1], s_fm[2]]\n",
    "plt.xlabel('Algorithms')\n",
    "plt.ylabel('F-measure')\n",
    "plt.bar(x, height, width = 0.8, bottom=None, align='center', data=None)"
   ]
  },
  {
   "cell_type": "code",
   "execution_count": 153,
   "metadata": {},
   "outputs": [
    {
     "data": {
      "text/plain": [
       "<Container object of 3 artists>"
      ]
     },
     "execution_count": 153,
     "metadata": {},
     "output_type": "execute_result"
    },
    {
     "data": {
      "image/png": "[encoded data removed]",
      "text/plain": [
       "<matplotlib.figure.Figure at 0x20c03998c18>"
      ]
     },
     "metadata": {},
     "output_type": "display_data"
    }
   ],
   "source": [
    "x = ['nb', 'maxent', 'svm']\n",
    "height = [n_a[0], n_a[1], n_a[2]]\n",
    "plt.xlabel('Algorithms')\n",
    "plt.ylabel('Accuracy')\n",
    "plt.bar(x, height, width = 0.8, bottom=None, align='center', data=None)"
   ]
  },
  {
   "cell_type": "code",
   "execution_count": 154,
   "metadata": {},
   "outputs": [
    {
     "data": {
      "text/plain": [
       "<Container object of 3 artists>"
      ]
     },
     "execution_count": 154,
     "metadata": {},
     "output_type": "execute_result"
    },
    {
     "data": {
      "image/png": "[encoded data removed]",
      "text/plain": [
       "<matplotlib.figure.Figure at 0x20c00e9d668>"
      ]
     },
     "metadata": {},
     "output_type": "display_data"
    }
   ],
   "source": [
    "x = ['nb', 'maxent', 'svm']\n",
    "height = [n_p[0], n_p[1], n_p[2]]\n",
    "plt.xlabel('Algorithms')\n",
    "plt.ylabel('Precision')\n",
    "plt.bar(x, height, width = 0.8, bottom=None, align='center', data=None)\n"
   ]
  },
  {
   "cell_type": "code",
   "execution_count": 155,
   "metadata": {},
   "outputs": [
    {
     "data": {
      "text/plain": [
       "<Container object of 3 artists>"
      ]
     },
     "execution_count": 155,
     "metadata": {},
     "output_type": "execute_result"
    },
    {
     "data": {
      "image/png": "[encoded data removed]",
      "text/plain": [
       "<matplotlib.figure.Figure at 0x20c0246c208>"
      ]
     },
     "metadata": {},
     "output_type": "display_data"
    }
   ],
   "source": [
    "x = ['nb', 'maxent', 'svm']\n",
    "height = [n_r[0], n_r[1], n_r[2]]\n",
    "plt.xlabel('Algorithms')\n",
    "plt.ylabel('Recall')\n",
    "plt.bar(x, height, width = 0.8, bottom=None, align='center', data=None)\n"
   ]
  },
  {
   "cell_type": "code",
   "execution_count": 156,
   "metadata": {},
   "outputs": [
    {
     "data": {
      "text/plain": [
       "<Container object of 3 artists>"
      ]
     },
     "execution_count": 156,
     "metadata": {},
     "output_type": "execute_result"
    },
    {
     "data": {
      "image/png": "[encoded data removed]",
      "text/plain": [
       "<matplotlib.figure.Figure at 0x20c7acfd780>"
      ]
     },
     "metadata": {},
     "output_type": "display_data"
    }
   ],
   "source": [
    "x = ['nb', 'maxent', 'svm']\n",
    "height = [n_fm[0], n_fm[1], n_fm[2]]\n",
    "plt.xlabel('Algorithms')\n",
    "plt.ylabel('F-measure')\n",
    "plt.bar(x, height, width = 0.8, bottom=None, align='center', data=None)"
   ]
  },
  {
   "cell_type": "code",
   "execution_count": null,
   "metadata": {},
   "outputs": [],
   "source": []
  }
 ],
 "metadata": {
  "kernelspec": {
   "display_name": "Python 3",
   "language": "python",
   "name": "python3"
  },
  "language_info": {
   "codemirror_mode": {
    "name": "ipython",
    "version": 3
   },
   "file_extension": ".py",
   "mimetype": "text/x-python",
   "name": "python",
   "nbconvert_exporter": "python",
   "pygments_lexer": "ipython3",
   "version": "3.6.3"
  }
 },
 "nbformat": 4,
 "nbformat_minor": 2
}
